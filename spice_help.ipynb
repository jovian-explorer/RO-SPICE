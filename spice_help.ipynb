{
 "cells": [
  {
   "cell_type": "code",
   "execution_count": 30,
   "metadata": {},
   "outputs": [
    {
     "data": {
      "text/plain": [
       "34"
      ]
     },
     "execution_count": 30,
     "metadata": {},
     "output_type": "execute_result"
    }
   ],
   "source": [
    "from __future__ import print_function\n",
    "import matplotlib.pyplot as plt\n",
    "import numpy as np\n",
    "import spiceypy as spice\n",
    "spice_env = ('./kernels/requirements.txt')\n",
    "spice.furnsh(spice_env) \n",
    "spice.ktotal('ALL')"
   ]
  },
  {
   "cell_type": "code",
   "execution_count": 31,
   "metadata": {},
   "outputs": [
    {
     "name": "stdout",
     "output_type": "stream",
     "text": [
      "CSPICE_N0067\n"
     ]
    }
   ],
   "source": [
    "def pver():\n",
    "    print(spice.tkvrsn('TOOLKIT'))\n",
    "if __name__ == '__main__':\n",
    "    pver()"
   ]
  },
  {
   "cell_type": "code",
   "execution_count": 2,
   "metadata": {},
   "outputs": [
    {
     "name": "stdout",
     "output_type": "stream",
     "text": [
      "Help on function str2et in module spiceypy.spiceypy:\n",
      "\n",
      "str2et(time: Union[str, Iterable[str]]) -> Union[float, numpy.ndarray]\n",
      "    Convert a string representing an epoch to a double precision\n",
      "    value representing the number of TDB seconds past the J2000\n",
      "    epoch corresponding to the input epoch.\n",
      "    \n",
      "    https://naif.jpl.nasa.gov/pub/naif/toolkit_docs/C/cspice/str2et_c.html\n",
      "    \n",
      "    :param time: A string representing an epoch.\n",
      "    :return: The equivalent value in seconds past J2000, TDB.\n",
      "\n"
     ]
    }
   ],
   "source": [
    "help(spice.str2et)"
   ]
  },
  {
   "cell_type": "code",
   "execution_count": 3,
   "metadata": {},
   "outputs": [
    {
     "name": "stdout",
     "output_type": "stream",
     "text": [
      "Help on function utc2et in module spiceypy.spiceypy:\n",
      "\n",
      "utc2et(utcstr: str) -> float\n",
      "    Convert an input time from Calendar or Julian Date format, UTC,\n",
      "    to ephemeris seconds past J2000.\n",
      "    \n",
      "    https://naif.jpl.nasa.gov/pub/naif/toolkit_docs/C/cspice/utc2et_c.html\n",
      "    \n",
      "    :param utcstr: Input time string, UTC.\n",
      "    :return: Output epoch, ephemeris seconds past J2000.\n",
      "\n"
     ]
    }
   ],
   "source": [
    "help(spice.utc2et)"
   ]
  },
  {
   "cell_type": "code",
   "execution_count": 4,
   "metadata": {},
   "outputs": [
    {
     "name": "stdout",
     "output_type": "stream",
     "text": [
      "Help on function spkpos in module spiceypy.spiceypy:\n",
      "\n",
      "spkpos(targ: str, et: Union[float, numpy.ndarray], ref: str, abcorr: str, obs: str) -> Union[Tuple[numpy.ndarray, float], Tuple[numpy.ndarray, numpy.ndarray]]\n",
      "    Return the position of a target body relative to an observing\n",
      "    body, optionally corrected for light time (planetary aberration)\n",
      "    and stellar aberration.\n",
      "    \n",
      "    https://naif.jpl.nasa.gov/pub/naif/toolkit_docs/C/cspice/spkpos_c.html\n",
      "    \n",
      "    :param targ: Target body name.\n",
      "    :param et: Observer epoch.\n",
      "    :param ref: Reference frame of output position vector.\n",
      "    :param abcorr: Aberration correction flag.\n",
      "    :param obs: Observing body name.\n",
      "    :return:\n",
      "            Position of target,\n",
      "            One way light time between observer and target.\n",
      "\n"
     ]
    }
   ],
   "source": [
    "help(spice.spkpos)"
   ]
  },
  {
   "cell_type": "code",
   "execution_count": 5,
   "metadata": {},
   "outputs": [
    {
     "name": "stdout",
     "output_type": "stream",
     "text": [
      "Help on function bodvrd in module spiceypy.spiceypy:\n",
      "\n",
      "bodvrd(bodynm: str, item: str, maxn: int) -> Tuple[int, numpy.ndarray]\n",
      "    Fetch from the kernel pool the double precision values\n",
      "    of an item associated with a body.\n",
      "    \n",
      "    https://naif.jpl.nasa.gov/pub/naif/toolkit_docs/C/cspice/bodvrd_c.html\n",
      "    \n",
      "    :param bodynm: Body name.\n",
      "    :param item:\n",
      "                Item for which values are desired,\n",
      "                (\"RADII\", \"NUT_PREC_ANGLES\", etc.)\n",
      "    :param maxn: Maximum number of values that may be returned.\n",
      "    :return: tuple of (dim, values)\n",
      "\n"
     ]
    }
   ],
   "source": [
    "help(spice.bodvrd)"
   ]
  },
  {
   "cell_type": "code",
   "execution_count": 6,
   "metadata": {},
   "outputs": [
    {
     "name": "stdout",
     "output_type": "stream",
     "text": [
      "Help on function spkezr in module spiceypy.spiceypy:\n",
      "\n",
      "spkezr(targ: str, et: Union[numpy.ndarray, float], ref: str, abcorr: str, obs: str) -> Union[Tuple[numpy.ndarray, float], Tuple[Iterable[numpy.ndarray], Iterable[float]]]\n",
      "    Return the state (position and velocity) of a target body\n",
      "    relative to an observing body, optionally corrected for light\n",
      "    time (planetary aberration) and stellar aberration.\n",
      "    \n",
      "    https://naif.jpl.nasa.gov/pub/naif/toolkit_docs/C/cspice/spkezr_c.html\n",
      "    \n",
      "    :param targ: Target body name.\n",
      "    :param et: Observer epoch.\n",
      "    :param ref: Reference frame of output state vector.\n",
      "    :param abcorr: Aberration correction flag.\n",
      "    :param obs: Observing body name.\n",
      "    :return:\n",
      "            State of target,\n",
      "            One way light time between observer and target.\n",
      "\n"
     ]
    }
   ],
   "source": [
    "help(spice.spkezr)"
   ]
  },
  {
   "cell_type": "code",
   "execution_count": 7,
   "metadata": {},
   "outputs": [
    {
     "name": "stdout",
     "output_type": "stream",
     "text": [
      "Help on function spkw15 in module spiceypy.spiceypy:\n",
      "\n",
      "spkw15(handle: int, body: int, center: int, inframe: str, first: float, last: float, segid: str, epoch: float, tp: numpy.ndarray, pa: numpy.ndarray, p: float, ecc: float, j2flg: float, pv: Union[numpy.ndarray, Iterable[float]], gm: float, j2: float, radius: float) -> None\n",
      "    Write an SPK segment of type 15 given a type 15 data record.\n",
      "    \n",
      "    https://naif.jpl.nasa.gov/pub/naif/toolkit_docs/C/cspice/spkw15_c.html\n",
      "    \n",
      "    :param handle: Handle of an SPK file open for writing.\n",
      "    :param body: Body code for ephemeris object.\n",
      "    :param center: Body code for the center of motion of the body.\n",
      "    :param inframe: The reference frame of the states.\n",
      "    :param first: First valid time for which states can be computed.\n",
      "    :param last: Last valid time for which states can be computed.\n",
      "    :param segid: Segment identifier.\n",
      "    :param epoch: Epoch of the periapse.\n",
      "    :param tp: Trajectory pole vector.\n",
      "    :param pa: Periapsis vector.\n",
      "    :param p: Semi-latus rectum.\n",
      "    :param ecc: Eccentricity.\n",
      "    :param j2flg: J2 processing flag.\n",
      "    :param pv: Central body pole vector.\n",
      "    :param gm: Central body GM.\n",
      "    :param j2: Central body J2.\n",
      "    :param radius: Equatorial radius of central body.\n",
      "\n"
     ]
    }
   ],
   "source": [
    "help(spice.spkw15)"
   ]
  },
  {
   "cell_type": "code",
   "execution_count": 8,
   "metadata": {},
   "outputs": [
    {
     "name": "stdout",
     "output_type": "stream",
     "text": [
      "Help on function spkgeo in module spiceypy.spiceypy:\n",
      "\n",
      "spkgeo(targ: int, et: float, ref: str, obs: int) -> Tuple[numpy.ndarray, float]\n",
      "    Compute the geometric state (position and velocity) of a target\n",
      "    body relative to an observing body.\n",
      "    \n",
      "    https://naif.jpl.nasa.gov/pub/naif/toolkit_docs/C/cspice/spkgeo_c.html\n",
      "    \n",
      "    :param targ: Target body.\n",
      "    :param et: Target epoch.\n",
      "    :param ref: Target reference frame.\n",
      "    :param obs: Observing body.\n",
      "    :return: State of target, Light time.\n",
      "\n"
     ]
    }
   ],
   "source": [
    "help(spice.spkgeo)"
   ]
  },
  {
   "cell_type": "code",
   "execution_count": 10,
   "metadata": {},
   "outputs": [
    {
     "name": "stdout",
     "output_type": "stream",
     "text": [
      "Help on function spkgps in module spiceypy.spiceypy:\n",
      "\n",
      "spkgps(targ: int, et: float, ref: str, obs: int) -> Tuple[numpy.ndarray, float]\n",
      "    Compute the geometric position of a target body relative to an\n",
      "    observing body.\n",
      "    \n",
      "    https://naif.jpl.nasa.gov/pub/naif/toolkit_docs/C/cspice/spkgps_c.html\n",
      "    \n",
      "    :param targ: Target body.\n",
      "    :param et: Target epoch.\n",
      "    :param ref: Target reference frame.\n",
      "    :param obs: Observing body.\n",
      "    :return: Position of target, Light time.\n",
      "\n"
     ]
    }
   ],
   "source": [
    "help(spice.spkgps)"
   ]
  },
  {
   "cell_type": "code",
   "execution_count": 13,
   "metadata": {},
   "outputs": [
    {
     "name": "stdout",
     "output_type": "stream",
     "text": [
      "Help on function bodfnd in module spiceypy.spiceypy:\n",
      "\n",
      "bodfnd(body: int, item: str) -> bool\n",
      "    Determine whether values exist for some item for any body\n",
      "    in the kernel pool.\n",
      "    \n",
      "    https://naif.jpl.nasa.gov/pub/naif/toolkit_docs/C/cspice/bodfnd_c.html\n",
      "    \n",
      "    :param body: ID code of body.\n",
      "    :param item: Item to find (\"RADII\", \"NUT_AMP_RA\", etc.).\n",
      "    :return: True if the item is in the kernel pool, and is False if it is not.\n",
      "\n"
     ]
    }
   ],
   "source": [
    "help(spice.bodfnd)"
   ]
  },
  {
   "cell_type": "code",
   "execution_count": 14,
   "metadata": {},
   "outputs": [
    {
     "name": "stdout",
     "output_type": "stream",
     "text": [
      "Help on function ckgpav in module spiceypy.spiceypy:\n",
      "\n",
      "ckgpav(inst: int, sclkdp: float, tol: Union[float, int], ref: str) -> Union[Tuple[numpy.ndarray, numpy.ndarray, float, bool], Tuple[numpy.ndarray, numpy.ndarray, float]]\n",
      "    Get pointing (attitude) and angular velocity\n",
      "    for a specified spacecraft clock time.\n",
      "    \n",
      "    https://naif.jpl.nasa.gov/pub/naif/toolkit_docs/C/cspice/ckgpav_c.html\n",
      "    \n",
      "    :param inst: NAIF ID of instrument, spacecraft, or structure.\n",
      "    :param sclkdp: Encoded spacecraft clock time.\n",
      "    :param tol: Time tolerance.\n",
      "    :param ref: Reference frame.\n",
      "    :return:\n",
      "            C-matrix pointing data,\n",
      "            Angular velocity vector,\n",
      "            Output encoded spacecraft clock time.\n",
      "\n"
     ]
    }
   ],
   "source": [
    "help(spice.ckgpav)"
   ]
  },
  {
   "cell_type": "code",
   "execution_count": 15,
   "metadata": {},
   "outputs": [
    {
     "name": "stdout",
     "output_type": "stream",
     "text": [
      "Help on function convrt in module spiceypy.spiceypy:\n",
      "\n",
      "convrt(x: Union[float, Iterable[float]], inunit: str, outunit: str) -> Union[numpy.ndarray, float]\n",
      "    Take a measurement X, the units associated with\n",
      "    X, and units to which X should be converted; return Y\n",
      "    the value of the measurement in the output units.\n",
      "    \n",
      "    https://naif.jpl.nasa.gov/pub/naif/toolkit_docs/C/cspice/convrt_c.html\n",
      "    \n",
      "    :param x: Number representing a measurement in some units.\n",
      "    :param inunit: The units in which x is measured.\n",
      "    :param outunit: Desired units for the measurement.\n",
      "    :return: The measurment in the desired units.\n",
      "\n"
     ]
    }
   ],
   "source": [
    "help(spice.convrt)"
   ]
  },
  {
   "cell_type": "code",
   "execution_count": 16,
   "metadata": {},
   "outputs": [
    {
     "name": "stdout",
     "output_type": "stream",
     "text": [
      "Help on function datetime2et in module spiceypy.spiceypy:\n",
      "\n",
      "datetime2et(dt: Union[Iterable[datetime.datetime], datetime.datetime]) -> Union[numpy.ndarray, float]\n",
      "    Converts a standard Python datetime to a double precision value\n",
      "    representing the number of TDB seconds past the J2000 epoch\n",
      "    corresponding to the input epoch.\n",
      "    \n",
      "    Timezone-naive datetimes will be assumed to be UTC, timezone-aware\n",
      "    datetimes will be handled correctly by converting to UTC before\n",
      "    passing them to CSPICE.\n",
      "    \n",
      "    https://naif.jpl.nasa.gov/pub/naif/toolkit_docs/C/req/time.html#The%20J2000%20Epoch\n",
      "    \n",
      "    :param dt: A standard Python datetime\n",
      "    :return: The equivalent value in seconds past J2000, TDB.\n",
      "\n"
     ]
    }
   ],
   "source": [
    "help(spice.datetime2et)"
   ]
  },
  {
   "cell_type": "code",
   "execution_count": 17,
   "metadata": {},
   "outputs": [
    {
     "name": "stdout",
     "output_type": "stream",
     "text": [
      "Help on function expool in module spiceypy.spiceypy:\n",
      "\n",
      "expool(name: str) -> bool\n",
      "    Confirm the existence of a kernel variable in the kernel pool.\n",
      "    \n",
      "    https://naif.jpl.nasa.gov/pub/naif/toolkit_docs/C/cspice/expool_c.html\n",
      "    \n",
      "    :param name: Name of the variable whose value is to be returned.\n",
      "    :return: True when the variable is in the pool.\n",
      "\n"
     ]
    }
   ],
   "source": [
    "help(spice.expool)"
   ]
  },
  {
   "cell_type": "code",
   "execution_count": 18,
   "metadata": {},
   "outputs": [
    {
     "name": "stdout",
     "output_type": "stream",
     "text": [
      "Help on function gfocce in module spiceypy.spiceypy:\n",
      "\n",
      "gfocce(occtyp: str, front: str, fshape: str, fframe: str, back: str, bshape: str, bframe: str, abcorr: str, obsrvr: str, tol: float, udstep: ctypes.CFUNCTYPE.<locals>.CFunctionType, udrefn: ctypes.CFUNCTYPE.<locals>.CFunctionType, rpt: int, udrepi: ctypes.CFUNCTYPE.<locals>.CFunctionType, udrepu: ctypes.CFUNCTYPE.<locals>.CFunctionType, udrepf: ctypes.CFUNCTYPE.<locals>.CFunctionType, bail: int, udbail: ctypes.CFUNCTYPE.<locals>.CFunctionType, cnfine: spiceypy.utils.support_types.SpiceCell, result: Union[spiceypy.utils.support_types.SpiceCell, NoneType] = None)\n",
      "    Determine time intervals when an observer sees one target\n",
      "    occulted by another. Report progress and handle interrupts\n",
      "    if so commanded.\n",
      "    \n",
      "    The surfaces of the target bodies may be represented by triaxial\n",
      "    ellipsoids or by topographic data provided by DSK files.\n",
      "    \n",
      "    https://naif.jpl.nasa.gov/pub/naif/toolkit_docs/C/cspice/gfocce_c.html\n",
      "    \n",
      "    :param occtyp: Type of occultation\n",
      "    :param front: Name of body occulting the other\n",
      "    :param fshape: Type of shape model used for front body\n",
      "    :param fframe: Body fixed body centered frame for front body\n",
      "    :param back: Name of body occulted by the other\n",
      "    :param bshape: Type of shape model used for back body\n",
      "    :param bframe: Body fixed body centered frame for back body\n",
      "    :param abcorr: Aberration correction flag\n",
      "    :param obsrvr: Name of the observing body\n",
      "    :param tol: Convergence tolerance in seconds\n",
      "    :param udstep: Name of the routine that returns a time step\n",
      "    :param udrefn: Name of the routine that computes a refined time\n",
      "    :param rpt: Progress report flag\n",
      "    :param udrepi: Function that initializes progress reporting.\n",
      "    :param udrepu: Function that updates the progress report\n",
      "    :param udrepf: Function that finalizes progress reporting\n",
      "    :param bail: Logical indicating program interrupt monitoring\n",
      "    :param udbail: Name of a routine that signals a program interrupt\n",
      "    :param cnfine: SPICE window to which the search is restricted\n",
      "    :param result: Optional SPICE window containing results.\n",
      "\n"
     ]
    }
   ],
   "source": [
    "help(spice.gfocce)"
   ]
  },
  {
   "cell_type": "code",
   "execution_count": 19,
   "metadata": {},
   "outputs": [
    {
     "name": "stdout",
     "output_type": "stream",
     "text": [
      "Help on function gfoclt in module spiceypy.spiceypy:\n",
      "\n",
      "gfoclt(occtyp: str, front: str, fshape: str, fframe: str, back: str, bshape: str, bframe: str, abcorr: str, obsrvr: str, step: float, cnfine: spiceypy.utils.support_types.SpiceCell, result: Union[spiceypy.utils.support_types.SpiceCell, NoneType] = None) -> spiceypy.utils.support_types.SpiceCell\n",
      "    Determine time intervals when an observer sees one target\n",
      "    occulted by, or in transit across, another.\n",
      "    \n",
      "    https://naif.jpl.nasa.gov/pub/naif/toolkit_docs/C/cspice/gfoclt_c.html\n",
      "    \n",
      "    :param occtyp: Type of occultation.\n",
      "    :param front: Name of body occulting the other.\n",
      "    :param fshape: Type of shape model used for front body.\n",
      "    :param fframe: Body-fixed, body-centered frame for front body.\n",
      "    :param back: Name of body occulted by the other.\n",
      "    :param bshape: Type of shape model used for back body.\n",
      "    :param bframe: Body-fixed, body-centered frame for back body.\n",
      "    :param abcorr: Aberration correction flag.\n",
      "    :param obsrvr: Name of the observing body.\n",
      "    :param step: Step size in seconds for finding occultation events.\n",
      "    :param cnfine: SPICE window to which the search is restricted.\n",
      "    :param result: Optional SPICE window containing results.\n",
      "\n"
     ]
    }
   ],
   "source": [
    "help(spice.gfoclt)"
   ]
  },
  {
   "cell_type": "code",
   "execution_count": 27,
   "metadata": {},
   "outputs": [
    {
     "name": "stdout",
     "output_type": "stream",
     "text": [
      "Help on function gfrefn in module spiceypy.spiceypy:\n",
      "\n",
      "gfrefn(t1: float, t2: float, s1: Union[bool, int], s2: Union[bool, int]) -> float\n",
      "    For those times when we can't do better, we use a bisection\n",
      "    method to find the next time at which to test for state change.\n",
      "    \n",
      "    https://naif.jpl.nasa.gov/pub/naif/toolkit_docs/C/cspice/gfrefn_c.html\n",
      "    \n",
      "    :param t1: One of two values bracketing a state change.\n",
      "    :param t2: The other value that brackets a state change.\n",
      "    :param s1: State at t1.\n",
      "    :param s2: State at t2.\n",
      "    :return: New value at which to check for transition.\n",
      "\n"
     ]
    }
   ],
   "source": [
    "help(spice.gfrefn)"
   ]
  },
  {
   "cell_type": "code",
   "execution_count": 22,
   "metadata": {},
   "outputs": [
    {
     "name": "stdout",
     "output_type": "stream",
     "text": [
      "Help on function ltime in module spiceypy.spiceypy:\n",
      "\n",
      "ltime(etobs: float, obs: int, direct: str, targ: int) -> Tuple[float, float]\n",
      "    This routine computes the transmit (or receive) time\n",
      "    of a signal at a specified target, given the receive\n",
      "    (or transmit) time at a specified observer. The elapsed\n",
      "    time between transmit and receive is also returned.\n",
      "    \n",
      "    https://naif.jpl.nasa.gov/pub/naif/toolkit_docs/C/cspice/ltime_c.html\n",
      "    \n",
      "    :param etobs: Epoch of a signal at some observer\n",
      "    :param obs: NAIF ID of some observer\n",
      "    :param direct: Direction the signal travels ( \"->\" or \"<-\" )\n",
      "    :param targ: NAIF ID of the target object\n",
      "    :return: epoch and time\n",
      "\n"
     ]
    }
   ],
   "source": [
    "help(spice.ltime)"
   ]
  },
  {
   "cell_type": "code",
   "execution_count": 24,
   "metadata": {},
   "outputs": [
    {
     "name": "stdout",
     "output_type": "stream",
     "text": [
      "Help on function spkaps in module spiceypy.spiceypy:\n",
      "\n",
      "spkaps(targ: int, et: float, ref: str, abcorr: str, stobs: numpy.ndarray, accobs: Iterable[float]) -> Tuple[numpy.ndarray, float, float]\n",
      "    Given the state and acceleration of an observer relative to the\n",
      "    solar system barycenter, return the state (position and velocity)\n",
      "    of a target body relative to the observer, optionally corrected\n",
      "    for light time and stellar aberration. All input and output\n",
      "    vectors are expressed relative to an inertial reference frame.\n",
      "    \n",
      "    This routine supersedes :func:`spkapp`.\n",
      "    \n",
      "    SPICE users normally should call the high-level API routines\n",
      "    :func:`spkezr` or :func:`spkez` rather than this routine.\n",
      "    https://naif.jpl.nasa.gov/pub/naif/toolkit_docs/C/cspice/spkaps_c.html\n",
      "    \n",
      "    :param targ: Target body.\n",
      "    :param et: Observer epoch.\n",
      "    :param ref: Inertial reference frame of output state.\n",
      "    :param abcorr: Aberration correction flag.\n",
      "    :param stobs: State of the observer relative to the SSB.\n",
      "    :param accobs: Acceleration of the observer relative to the SSB.\n",
      "    :return:\n",
      "             State of target,\n",
      "             One way light time between observer and target,\n",
      "             Derivative of light time with respect to time.\n",
      "\n"
     ]
    }
   ],
   "source": [
    "help(spice.spkaps)"
   ]
  },
  {
   "cell_type": "code",
   "execution_count": 32,
   "metadata": {},
   "outputs": [
    {
     "name": "stdout",
     "output_type": "stream",
     "text": [
      "Help on function spkssb in module spiceypy.spiceypy:\n",
      "\n",
      "spkssb(targ: int, et: float, ref: str) -> numpy.ndarray\n",
      "    Return the state (position and velocity) of a target body\n",
      "    relative to the solar system barycenter.\n",
      "    \n",
      "    https://naif.jpl.nasa.gov/pub/naif/toolkit_docs/C/cspice/spkssb_c.html\n",
      "    \n",
      "    :param targ: Target body.\n",
      "    :param et: Target epoch.\n",
      "    :param ref: Target reference frame.\n",
      "    :return: State of target.\n",
      "\n"
     ]
    }
   ],
   "source": [
    "help(spice.spkssb)"
   ]
  },
  {
   "cell_type": "code",
   "execution_count": 26,
   "metadata": {},
   "outputs": [
    {
     "name": "stdout",
     "output_type": "stream",
     "text": [
      "Help on function tangpt in module spiceypy.spiceypy:\n",
      "\n",
      "tangpt(method: str, target: str, et: float, fixref: str, abcorr: str, corloc: str, obsrvr: str, dref: str, dvec: Union[numpy.ndarray, Iterable[float]]) -> Tuple[numpy.ndarray, float, float, numpy.ndarray, float, numpy.ndarray]\n",
      "    Compute, for a given observer, ray emanating from the observer,\n",
      "    and target, the \"tangent point\": the point on the ray nearest\n",
      "    to the target's surface. Also compute the point on the target's\n",
      "    surface nearest to the tangent point.\n",
      "    \n",
      "    The locations of both points are optionally corrected for light\n",
      "    time and stellar aberration.\n",
      "    \n",
      "    The surface shape is modeled as a triaxial ellipsoid.\n",
      "    \n",
      "    https://naif.jpl.nasa.gov/pub/naif/toolkit_docs/C/cspice/tangpt_c.html\n",
      "    \n",
      "    :param method: Computation method.\n",
      "    :param target: Name of target body.\n",
      "    :param et: Epoch in ephemeris seconds past J2000 TDB.\n",
      "    :param fixref: Body-fixed, body-centered target body frame.\n",
      "    :param abcorr: Aberration correction.\n",
      "    :param corloc: Aberration correction locus: \"TANGENT POINT\" or\n",
      "                   \"SURFACE POINT\".\n",
      "    :param obsrvr: Name of observing body.\n",
      "    :param dref: Reference frame of ray direction vector.\n",
      "    :param dvec: Ray direction vector.\n",
      "    :return: \"Tangent point\": point on ray nearest to surface, Altitude of\n",
      "     tangent point above surface, Distance of tangent point from observer,\n",
      "     Point on surface nearest to tangent point, Epoch associated with\n",
      "     correction locus, Vector from observer to surface point `srfpt'.\n",
      "\n"
     ]
    }
   ],
   "source": [
    "help(spice.tangpt)"
   ]
  }
 ],
 "metadata": {
  "kernelspec": {
   "display_name": "Python 3",
   "language": "python",
   "name": "python3"
  },
  "language_info": {
   "codemirror_mode": {
    "name": "ipython",
    "version": 3
   },
   "file_extension": ".py",
   "mimetype": "text/x-python",
   "name": "python",
   "nbconvert_exporter": "python",
   "pygments_lexer": "ipython3",
   "version": "3.8.10"
  }
 },
 "nbformat": 4,
 "nbformat_minor": 2
}
